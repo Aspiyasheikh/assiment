{
  "nbformat": 4,
  "nbformat_minor": 0,
  "metadata": {
    "colab": {
      "provenance": []
    },
    "kernelspec": {
      "name": "python3",
      "display_name": "Python 3"
    },
    "language_info": {
      "name": "python"
    }
  },
  "cells": [
    {
      "cell_type": "markdown",
      "source": [
        "Q1. Explain class and object with respect to object-oriented programming . Given a suitable examples."
      ],
      "metadata": {
        "id": "3mmmvVFbQLgL"
      }
    },
    {
      "cell_type": "markdown",
      "source": [
        "**class**-A class is a blueprint or template for creating objects. It defines the properties (attributes) and behaviors (methods) that objects of that class will have.\n",
        "\n",
        "\n",
        " object-An object is an instance of a class. It is a concrete realization of the class's blueprint, possessing the attributes and behaviors defined in the class."
      ],
      "metadata": {
        "id": "lJwppov3Qszq"
      }
    },
    {
      "cell_type": "code",
      "source": [
        "class Car:\n",
        "    def __init__(self, make, model, year):\n",
        "        self.make = make\n",
        "        self.model = model\n",
        "        self.year = year\n",
        "        self.speed = 0\n",
        "\n",
        "    def start_engine(self):\n",
        "        print(\"Engine started\")\n",
        "\n",
        "    def accelerate(self, speed_increase):\n",
        "        self.speed += speed_increase\n",
        "        print(f\"Accelerating. Current speed: {self.speed} mph\")\n",
        "\n",
        "    def brake(self, speed_decrease):\n",
        "        self.speed -= speed_decrease\n",
        "        print(f\"Braking. Current speed: {self.speed} mph\")\n",
        "# Creating car objects from the Car class\n",
        "car1 = Car(\"Toyota\", \"Camry\", 2022)\n",
        "car2 = Car(\"Ford\", \"Mustang\", 2023)\n",
        "\n",
        "# Interacting with the car objects using methods\n",
        "car1.start_engine()\n",
        "car1.accelerate(40)\n",
        "car1.brake(10)\n",
        "\n",
        "car2.start_engine()\n",
        "car2.accelerate(60)\n",
        "car2.brake(20)"
      ],
      "metadata": {
        "colab": {
          "base_uri": "https://localhost:8080/"
        },
        "id": "CIBfGYKpQW82",
        "outputId": "d9be1f29-6f4f-4155-ccef-bd58c6e12f99"
      },
      "execution_count": 1,
      "outputs": [
        {
          "output_type": "stream",
          "name": "stdout",
          "text": [
            "Engine started\n",
            "Accelerating. Current speed: 40 mph\n",
            "Braking. Current speed: 30 mph\n",
            "Engine started\n",
            "Accelerating. Current speed: 60 mph\n",
            "Braking. Current speed: 40 mph\n"
          ]
        }
      ]
    },
    {
      "cell_type": "markdown",
      "source": [
        "Q2. name the four pillars of oops."
      ],
      "metadata": {
        "id": "MBjiyHYrSPj-"
      }
    },
    {
      "cell_type": "markdown",
      "source": [
        "he four pillars of OOP are encapsulation, abstraction, inheritance, and polymorphism, forming the foundation for structured and efficient object-oriented programming."
      ],
      "metadata": {
        "id": "Yyeyr7U0SfGc"
      }
    },
    {
      "cell_type": "markdown",
      "source": [
        "3. Exp.lain why the __init__() function is used. give a suitable example"
      ],
      "metadata": {
        "id": "dj6mISOSSg7e"
      }
    },
    {
      "cell_type": "markdown",
      "source": [
        "The __init__() function, also known as the constructor, is used in object-oriented programming languages like Python to initialize the attributes of an object when it is created"
      ],
      "metadata": {
        "id": "bJLPkaoxTw5u"
      }
    },
    {
      "cell_type": "code",
      "source": [
        "class Car:\n",
        "    def __init__(self, make, model, year):\n",
        "        self.make = make\n",
        "        self.model = model\n",
        "        self.year = year\n",
        "        self.speed = 0\n",
        "\n",
        "    def start_engine(self):\n",
        "        print(\"Engine started\")\n",
        "\n",
        "    def accelerate(self, speed_increase):\n",
        "        self.speed += speed_increase\n",
        "        print(f\"Accelerating. Current speed: {self.speed} mph\")\n",
        "\n",
        "    def brake(self, speed_decrease):\n",
        "        self.speed -= speed_decrease\n",
        "        print(f\"Braking. Current speed: {self.speed} mph\")\n",
        "car1 = Car(\"Toyota\", \"Camry\", 2022)\n",
        "car2 = Car(\"Ford\", \"Mustang\", 2023)\n",
        "car1.start_engine()\n"
      ],
      "metadata": {
        "colab": {
          "base_uri": "https://localhost:8080/"
        },
        "id": "Oa4T7pUyRB8U",
        "outputId": "28a5881d-a2d6-480f-ea56-95776a8170a7"
      },
      "execution_count": 6,
      "outputs": [
        {
          "output_type": "stream",
          "name": "stdout",
          "text": [
            "Engine started\n"
          ]
        }
      ]
    },
    {
      "cell_type": "markdown",
      "source": [
        "Q4. why self is used in oops?"
      ],
      "metadata": {
        "id": "-Oj7vLtEo7O7"
      }
    },
    {
      "cell_type": "markdown",
      "source": [
        "In object-oriented programming (OOP), the self keyword is used to refer to the instance of the class within its methods."
      ],
      "metadata": {
        "id": "uO7VZYYRpK_c"
      }
    },
    {
      "cell_type": "markdown",
      "source": [
        "5. what is inheritance? Give an example for each type of inheritance."
      ],
      "metadata": {
        "id": "XSo6vp85pMq6"
      }
    },
    {
      "cell_type": "markdown",
      "source": [
        "Inheritance is a fundamental concept in object-oriented programming (OOP) that allows a new class (subclass or derived class) to inherit properties and behaviors from an existing class (superclass or base class)."
      ],
      "metadata": {
        "id": "iyXvR_JHpktt"
      }
    },
    {
      "cell_type": "code",
      "source": [
        "class test:\n",
        "  def test_meth(self):\n",
        "    return \"this is my first class.\"\n",
        "class child_test(test):\n",
        "  pass\n",
        "child_test_obj=child_test()\n",
        "child_test_obj.test_meth()"
      ],
      "metadata": {
        "colab": {
          "base_uri": "https://localhost:8080/",
          "height": 36
        },
        "id": "aQwy25q9T5Ja",
        "outputId": "70c3b00d-dc73-4668-fff5-fdfeb114fb97"
      },
      "execution_count": 9,
      "outputs": [
        {
          "output_type": "execute_result",
          "data": {
            "text/plain": [
              "'this is my first class.'"
            ],
            "application/vnd.google.colaboratory.intrinsic+json": {
              "type": "string"
            }
          },
          "metadata": {},
          "execution_count": 9
        }
      ]
    },
    {
      "cell_type": "code",
      "source": [],
      "metadata": {
        "id": "Csgk5st8p2TR"
      },
      "execution_count": null,
      "outputs": []
    }
  ]
}