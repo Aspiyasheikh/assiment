{
  "cells": [
    {
      "cell_type": "markdown",
      "metadata": {
        "id": "uEj0jrPl8dok"
      },
      "source": [
        "Q1. Create a python to sort the given list of tuples based on integer value using a lambda function."
      ]
    },
    {
      "cell_type": "code",
      "execution_count": 3,
      "metadata": {
        "colab": {
          "base_uri": "https://localhost:8080/"
        },
        "id": "lLJsCASP8pWm",
        "outputId": "eada4591-c43a-41e7-fbac-13ae2849d5e5"
      },
      "outputs": [
        {
          "output_type": "stream",
          "name": "stdout",
          "text": [
            "[('virat kohli', 24936), ('jack kallis', 25534), ('ricky Ponting', 27483), ('Sachine Tendulkar', 34357)]\n"
          ]
        }
      ],
      "source": [
        "data =[('Sachine Tendulkar',34357),('ricky Ponting',27483),('jack kallis',25534),('virat kohli',24936)]\n",
        "\n",
        "sorted_data = sorted(data, key=lambda x: x[1])\n",
        "\n",
        "print(sorted_data)\n"
      ]
    },
    {
      "cell_type": "markdown",
      "source": [
        "Q2. Write a python program to find the squares of all the numbers in the given list of integers using lambda and map function\n"
      ],
      "metadata": {
        "id": "qabE89BamjmQ"
      }
    },
    {
      "cell_type": "code",
      "execution_count": 5,
      "metadata": {
        "id": "FJdsyw-l9FOt",
        "colab": {
          "base_uri": "https://localhost:8080/"
        },
        "outputId": "8e0cdcb1-4cd4-40b9-8d41-98846f5accbd"
      },
      "outputs": [
        {
          "output_type": "execute_result",
          "data": {
            "text/plain": [
              "[1, 4, 9, 16]"
            ]
          },
          "metadata": {},
          "execution_count": 5
        }
      ],
      "source": [
        "l1=[1,2,3,4]\n",
        "a=list(map(lambda x:x**2,l1))\n",
        "a"
      ]
    },
    {
      "cell_type": "markdown",
      "source": [
        "Q3.write a python program to convert the given list of integers into a tuple of strings. use map and lambda function."
      ],
      "metadata": {
        "id": "jnwpqJPrnQQG"
      }
    },
    {
      "cell_type": "code",
      "source": [
        "integers = [1, 2, 3, 4, 5,6,7,8,9,10]\n",
        "string_tuple = tuple(map(lambda x: str(x), integers))\n",
        "\n",
        "print(string_tuple)\n"
      ],
      "metadata": {
        "colab": {
          "base_uri": "https://localhost:8080/"
        },
        "id": "zvbO3jqonCqG",
        "outputId": "75fa59cc-de70-4c73-c26c-3a6f59d4efb0"
      },
      "execution_count": 9,
      "outputs": [
        {
          "output_type": "stream",
          "name": "stdout",
          "text": [
            "('1', '2', '3', '4', '5', '6', '7', '8', '9', '10')\n"
          ]
        }
      ]
    },
    {
      "cell_type": "markdown",
      "source": [
        "Q4. write a python program using reduce function to compute the product of a list containing numbers from 1 to 25."
      ],
      "metadata": {
        "id": "4S2weXt3pEwp"
      }
    },
    {
      "cell_type": "code",
      "source": [
        "from functools import reduce\n",
        "\n",
        "numbers = list(range(1, 26))\n",
        "\n",
        "# Using reduce to compute the product of the list\n",
        "product = reduce(lambda x, y: x * y, numbers)\n",
        "\n",
        "print(\"Product:\", product)\n"
      ],
      "metadata": {
        "colab": {
          "base_uri": "https://localhost:8080/"
        },
        "id": "jKAWyrV7oHsY",
        "outputId": "55878e8f-9583-4723-ed0f-fadd2d8b87b8"
      },
      "execution_count": 10,
      "outputs": [
        {
          "output_type": "stream",
          "name": "stdout",
          "text": [
            "Product: 15511210043330985984000000\n"
          ]
        }
      ]
    },
    {
      "cell_type": "markdown",
      "source": [
        "Q5. write a python program to filter the numbers in a given list that are divisible by 2 and 3 using the filter function."
      ],
      "metadata": {
        "id": "WpkmtxZ8prE9"
      }
    },
    {
      "cell_type": "code",
      "source": [
        "numbers = [1, 2, 3, 4, 5, 6, 7, 8, 9, 10, 12, 15, 18]\n",
        "\n",
        "divisible_by_2_and_3 = [x for x in numbers if x % 2 == 0 and x % 3 == 0]\n",
        "\n",
        "print(\"Numbers divisible by 2 and 3:\", divisible_by_2_and_3)"
      ],
      "metadata": {
        "colab": {
          "base_uri": "https://localhost:8080/"
        },
        "id": "gEIYUserpiO1",
        "outputId": "09f26b92-d1cf-46e9-968a-c5c03756918b"
      },
      "execution_count": 11,
      "outputs": [
        {
          "output_type": "stream",
          "name": "stdout",
          "text": [
            "Numbers divisible by 2 and 3: [6, 12, 18]\n"
          ]
        }
      ]
    },
    {
      "cell_type": "markdown",
      "source": [
        "Q6. write a python program to find palindromes in the given list of strings using lambda and filter function."
      ],
      "metadata": {
        "id": "yJCwjtGyqJg9"
      }
    },
    {
      "cell_type": "code",
      "source": [
        "strings = [\"radar\", \"hello\", \"level\", \"world\", \"deified\"]\n",
        "\n",
        "palindromes = list(filter(lambda x: x == x[::-1], strings))\n",
        "\n",
        "print(\"Palindromes in the list:\", palindromes)\n"
      ],
      "metadata": {
        "colab": {
          "base_uri": "https://localhost:8080/"
        },
        "id": "f3rQUuM4qHnj",
        "outputId": "f7ed8b8a-47d1-4f93-a9a2-4a0650215066"
      },
      "execution_count": 12,
      "outputs": [
        {
          "output_type": "stream",
          "name": "stdout",
          "text": [
            "Palindromes in the list: ['radar', 'level', 'deified']\n"
          ]
        }
      ]
    },
    {
      "cell_type": "code",
      "source": [],
      "metadata": {
        "id": "T25ODRdOqiJv"
      },
      "execution_count": null,
      "outputs": []
    }
  ],
  "metadata": {
    "colab": {
      "provenance": []
    },
    "kernelspec": {
      "display_name": "Python 3",
      "name": "python3"
    },
    "language_info": {
      "name": "python"
    }
  },
  "nbformat": 4,
  "nbformat_minor": 0
}