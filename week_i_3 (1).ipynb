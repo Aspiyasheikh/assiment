{
  "nbformat": 4,
  "nbformat_minor": 0,
  "metadata": {
    "colab": {
      "provenance": []
    },
    "kernelspec": {
      "name": "python3",
      "display_name": "Python 3"
    },
    "language_info": {
      "name": "python"
    }
  },
  "cells": [
    {
      "cell_type": "markdown",
      "source": [
        "Q1. Which keyword is used to create a function ? create a function to return a list of odd numbers in the range of 1 to 25."
      ],
      "metadata": {
        "id": "SquPsMcmOF49"
      }
    },
    {
      "cell_type": "markdown",
      "source": [
        "def keyword is used to create a  function."
      ],
      "metadata": {
        "id": "znK_2ls2OY56"
      }
    },
    {
      "cell_type": "code",
      "source": [
        "l1=[]\n",
        "def list(n):\n",
        "   for i in n:\n",
        "     if i%2!=0:\n",
        "      l1.append(i)\n",
        "   return l1\n",
        "list(range(25))\n"
      ],
      "metadata": {
        "colab": {
          "base_uri": "https://localhost:8080/"
        },
        "id": "dEHlaW9AOVgy",
        "outputId": "73b910a0-7284-414d-84fc-41a60abca0a2"
      },
      "execution_count": null,
      "outputs": [
        {
          "output_type": "execute_result",
          "data": {
            "text/plain": [
              "[1, 3, 5, 7, 9, 11, 13, 15, 17, 19, 21, 23]"
            ]
          },
          "metadata": {},
          "execution_count": 5
        }
      ]
    },
    {
      "cell_type": "markdown",
      "source": [
        "Q2.  Why (*args) and (**kwargs) is used in some functions? Create a function each for *args and **kwargs to demostrate their use."
      ],
      "metadata": {
        "id": "yt8ZIHSAPQ96"
      }
    },
    {
      "cell_type": "markdown",
      "source": [
        "*args- The args parameter is a tuple that holds all the positional arguments passed to the function.\n",
        "\n",
        "**kwargs - The kwargs parameter is a dictionary that holds all the keyword arguments passed to the function."
      ],
      "metadata": {
        "id": "oOl4GlANP9g0"
      }
    },
    {
      "cell_type": "code",
      "source": [
        "# use of *args\n",
        "def list(*args):\n",
        "  return args\n",
        "list(1,2,3,4,5,6)"
      ],
      "metadata": {
        "colab": {
          "base_uri": "https://localhost:8080/"
        },
        "id": "CLSy2QZAO6Kg",
        "outputId": "ff6e193c-3d1d-49ac-864c-0d1e90beb38e"
      },
      "execution_count": null,
      "outputs": [
        {
          "output_type": "execute_result",
          "data": {
            "text/plain": [
              "(1, 2, 3, 4, 5, 6)"
            ]
          },
          "metadata": {},
          "execution_count": 8
        }
      ]
    },
    {
      "cell_type": "code",
      "source": [
        "# use of **kwargs\n",
        "def dic(**kwargs):\n",
        "   return kwargs\n",
        "dic(a='1',b='2',c='3')"
      ],
      "metadata": {
        "colab": {
          "base_uri": "https://localhost:8080/"
        },
        "id": "CD7UTAIKQuxV",
        "outputId": "4531841e-3815-4e57-dba0-503080216605"
      },
      "execution_count": null,
      "outputs": [
        {
          "output_type": "execute_result",
          "data": {
            "text/plain": [
              "{'a': '1', 'b': '2', 'c': '3'}"
            ]
          },
          "metadata": {},
          "execution_count": 12
        }
      ]
    },
    {
      "cell_type": "markdown",
      "source": [
        "Q3.what is an iterator in python? Name the method used to initialise the  iterator object and the method used for iteration. Use these method to print the first five elements of the given list[2,4,6,8,10,12,14,16,18,20]"
      ],
      "metadata": {
        "id": "oHKEqijKRzlp"
      }
    },
    {
      "cell_type": "markdown",
      "source": [
        "iterator-An iterator in Python is a tool that helps you go through a sequence of items one by one.\n",
        "\n"
      ],
      "metadata": {
        "id": "ptrJ895lSytq"
      }
    },
    {
      "cell_type": "markdown",
      "source": [
        "The method used to initialize the iterator object is __iter__().\n",
        "\n",
        "The method used for iteration is __next__()"
      ],
      "metadata": {
        "id": "3Mw0cfllTFxK"
      }
    },
    {
      "cell_type": "code",
      "source": [
        "list=[2,4,6,8,10,12,14,16,18,20]\n",
        "l1=iter(list)\n",
        "next(l1)"
      ],
      "metadata": {
        "colab": {
          "base_uri": "https://localhost:8080/"
        },
        "id": "K6lQYp7ATNoO",
        "outputId": "d43a7672-ba2e-4e69-9aec-9bc6412c99b4"
      },
      "execution_count": null,
      "outputs": [
        {
          "output_type": "execute_result",
          "data": {
            "text/plain": [
              "2"
            ]
          },
          "metadata": {},
          "execution_count": 14
        }
      ]
    },
    {
      "cell_type": "code",
      "source": [
        "next(l1)"
      ],
      "metadata": {
        "colab": {
          "base_uri": "https://localhost:8080/"
        },
        "id": "aQ_kuhMdTkj6",
        "outputId": "8f3f634c-09c7-4a6d-a2a9-c8d1f65c2d9d"
      },
      "execution_count": null,
      "outputs": [
        {
          "output_type": "execute_result",
          "data": {
            "text/plain": [
              "4"
            ]
          },
          "metadata": {},
          "execution_count": 15
        }
      ]
    },
    {
      "cell_type": "code",
      "source": [
        "next(l1)"
      ],
      "metadata": {
        "colab": {
          "base_uri": "https://localhost:8080/"
        },
        "id": "aspsChOHQ9Pc",
        "outputId": "0d2ae8e2-bf2c-48e8-ed32-2296ea53e9f0"
      },
      "execution_count": null,
      "outputs": [
        {
          "output_type": "execute_result",
          "data": {
            "text/plain": [
              "6"
            ]
          },
          "metadata": {},
          "execution_count": 16
        }
      ]
    },
    {
      "cell_type": "code",
      "source": [
        "next(l1)"
      ],
      "metadata": {
        "colab": {
          "base_uri": "https://localhost:8080/"
        },
        "id": "Xzq0ozuQTooF",
        "outputId": "326ea2ff-4ab8-4b9e-a8f1-e74c1cc980b7"
      },
      "execution_count": null,
      "outputs": [
        {
          "output_type": "execute_result",
          "data": {
            "text/plain": [
              "8"
            ]
          },
          "metadata": {},
          "execution_count": 17
        }
      ]
    },
    {
      "cell_type": "code",
      "source": [
        "next(l1)"
      ],
      "metadata": {
        "colab": {
          "base_uri": "https://localhost:8080/"
        },
        "id": "lsetXaXpTqY1",
        "outputId": "97946b5e-a794-44ab-f60f-c256c7558105"
      },
      "execution_count": null,
      "outputs": [
        {
          "output_type": "execute_result",
          "data": {
            "text/plain": [
              "10"
            ]
          },
          "metadata": {},
          "execution_count": 18
        }
      ]
    },
    {
      "cell_type": "markdown",
      "source": [
        "Q4.What is a generator functionn for prime numbers less than 1000. use the next() method to print the first 20 prime numbers."
      ],
      "metadata": {
        "id": "akp1S-m8TuzI"
      }
    },
    {
      "cell_type": "code",
      "source": [
        "def is_prime(n):\n",
        "    if n <= 1:\n",
        "        return False\n",
        "    for i in range(2, n):\n",
        "        if n % i == 0:\n",
        "            return False\n",
        "    return True\n",
        "\n",
        "def prime_generator(limit):\n",
        "    num = 2\n",
        "    while num < limit:\n",
        "        if is_prime(num):\n",
        "            yield num\n",
        "        num += 1\n",
        "\n",
        "limit = 1000\n",
        "prime_gen = prime_generator(limit)\n",
        "\n",
        "print(\"The first 20 prime numbers:\")\n",
        "for _ in range(20):\n",
        "    prime = next(prime_gen)\n",
        "    print(prime, end=' ')\n",
        "\n",
        "\n",
        "\n",
        "\n"
      ],
      "metadata": {
        "id": "nA9HZw8OTsBa",
        "colab": {
          "base_uri": "https://localhost:8080/"
        },
        "outputId": "c1946da3-537b-4b44-9efa-521c3f4423a5"
      },
      "execution_count": null,
      "outputs": [
        {
          "output_type": "stream",
          "name": "stdout",
          "text": [
            "The first 20 prime numbers:\n",
            "2 3 5 7 11 13 17 19 23 29 31 37 41 43 47 53 59 61 67 71 "
          ]
        }
      ]
    },
    {
      "cell_type": "markdown",
      "source": [
        "Q5. Create a generator function for prime nubers less than 1000. use the next() method to print  the  first 20 prime numbers."
      ],
      "metadata": {
        "id": "2reW2T91JBOV"
      }
    },
    {
      "cell_type": "code",
      "source": [
        "def is_prime(n):\n",
        "    if n <= 1:\n",
        "        return False\n",
        "    for i in range(2, n):\n",
        "        if n % i == 0:\n",
        "            return False\n",
        "    return True\n",
        "\n",
        "def prime_generator(limit):\n",
        "    num = 2\n",
        "    while num < limit:\n",
        "        if is_prime(num):\n",
        "            yield num\n",
        "        num += 1\n",
        "\n",
        "limit = 1000\n",
        "prime_gen = prime_generator(limit)\n",
        "\n",
        "print(\"The first 20 prime numbers:\")\n",
        "for _ in range(20):\n",
        "    prime = next(prime_gen)\n",
        "    print(prime, end=' ')\n",
        "\n",
        "\n",
        "\n"
      ],
      "metadata": {
        "colab": {
          "base_uri": "https://localhost:8080/"
        },
        "id": "5VZOkbIgDGpQ",
        "outputId": "5e850650-3b6d-47ed-ff3b-5d47f30f3600"
      },
      "execution_count": null,
      "outputs": [
        {
          "output_type": "stream",
          "name": "stdout",
          "text": [
            "The first 20 prime numbers:\n",
            "2 3 5 7 11 13 17 19 23 29 31 37 41 43 47 53 59 61 67 71 "
          ]
        }
      ]
    },
    {
      "cell_type": "markdown",
      "source": [
        "Q6.Write  a python program to print the first 10 fibonacci numbers using a while loop."
      ],
      "metadata": {
        "id": "J3G5dY3sJ7PH"
      }
    },
    {
      "cell_type": "code",
      "source": [
        "def  test_fib(n):\n",
        "  a,b=0,1\n",
        "  for i in range(n):\n",
        "    yield a\n",
        "    a,b= b,a+b\n",
        "for i in test_fib(10):\n",
        "  print (i)"
      ],
      "metadata": {
        "colab": {
          "base_uri": "https://localhost:8080/"
        },
        "id": "gzDTSBhgJ34q",
        "outputId": "c2f84112-8b7a-49c9-e53b-0a5d59263890"
      },
      "execution_count": null,
      "outputs": [
        {
          "output_type": "stream",
          "name": "stdout",
          "text": [
            "0\n",
            "1\n",
            "1\n",
            "2\n",
            "3\n",
            "5\n",
            "8\n",
            "13\n",
            "21\n",
            "34\n"
          ]
        }
      ]
    },
    {
      "cell_type": "markdown",
      "source": [
        "Q7. write a list Comprehension to iterate through the given string:'pwskills.\n",
        "Expected output:['p','w','s','k','i','l','l','s']"
      ],
      "metadata": {
        "id": "i083MHkFVAUh"
      }
    },
    {
      "cell_type": "code",
      "source": [
        "s='pwskills'\n",
        "list(map(lambda s: s.upper(),s))"
      ],
      "metadata": {
        "id": "4a2sVG4nVi0W",
        "colab": {
          "base_uri": "https://localhost:8080/"
        },
        "outputId": "2f67fd5c-a9b2-444c-940e-22c606b39ae9"
      },
      "execution_count": 12,
      "outputs": [
        {
          "output_type": "execute_result",
          "data": {
            "text/plain": [
              "['P', 'W', 'S', 'K', 'I', 'L', 'L', 'S']"
            ]
          },
          "metadata": {},
          "execution_count": 12
        }
      ]
    },
    {
      "cell_type": "markdown",
      "source": [
        "Q8. write a python program to check whether a given number is pallindrome or not using while loop."
      ],
      "metadata": {
        "id": "_jutt6V9XHHZ"
      }
    },
    {
      "cell_type": "code",
      "source": [
        "def isPalindrome(n):\n",
        "    reverse = 0\n",
        "    reminder = 0\n",
        "    while(n != 0):\n",
        "        remainder = n % 10\n",
        "        reverse = reverse * 10 + remainder\n",
        "        n = int(n / 10)\n",
        "    return reverse\n",
        "num = int(input('Enter the number: '))\n",
        "reverse = isPalindrome(num)\n",
        "if(num == reverse):\n",
        "  print(num,'is a Palindrome')\n",
        "else:\n",
        "  print(num,'is not a Palindrome')"
      ],
      "metadata": {
        "colab": {
          "base_uri": "https://localhost:8080/"
        },
        "id": "rhB3cD--XHvO",
        "outputId": "c359ad29-a9e8-4d76-9a59-76f5175ffb2f"
      },
      "execution_count": 3,
      "outputs": [
        {
          "output_type": "stream",
          "name": "stdout",
          "text": [
            "Enter the number: 1221\n",
            "1221 is a Palindrome\n"
          ]
        }
      ]
    },
    {
      "cell_type": "code",
      "source": [],
      "metadata": {
        "id": "nllQfF_HyfCI"
      },
      "execution_count": null,
      "outputs": []
    },
    {
      "cell_type": "markdown",
      "source": [
        "Q9.Write a code to print odd numbers from 1 to 100 using list comprehension."
      ],
      "metadata": {
        "id": "cVs0nrpHy_5y"
      }
    },
    {
      "cell_type": "code",
      "source": [
        "odd_numbers = list(map(lambda num: num, filter(lambda num: num % 2 != 0, range(1, 101))))\n",
        "print(odd_numbers)\n",
        "\n",
        "\n",
        "\n"
      ],
      "metadata": {
        "colab": {
          "base_uri": "https://localhost:8080/"
        },
        "id": "1YdtNUrdzWft",
        "outputId": "74ba663d-5e26-4552-8575-75eac40bf285"
      },
      "execution_count": 22,
      "outputs": [
        {
          "output_type": "stream",
          "name": "stdout",
          "text": [
            "[1, 3, 5, 7, 9, 11, 13, 15, 17, 19, 21, 23, 25, 27, 29, 31, 33, 35, 37, 39, 41, 43, 45, 47, 49, 51, 53, 55, 57, 59, 61, 63, 65, 67, 69, 71, 73, 75, 77, 79, 81, 83, 85, 87, 89, 91, 93, 95, 97, 99]\n"
          ]
        }
      ]
    },
    {
      "cell_type": "code",
      "source": [
        "\n"
      ],
      "metadata": {
        "id": "BD_hXJa30rlJ"
      },
      "execution_count": null,
      "outputs": []
    }
  ]
}