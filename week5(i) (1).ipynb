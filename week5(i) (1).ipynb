{
 "cells": [
  {
   "cell_type": "markdown",
   "id": "c23d3553-4299-4936-ab8e-735cd0a2f69d",
   "metadata": {},
   "source": [
    "Q1. what is a database ?differentiate between sql and nosql databases."
   ]
  },
  {
   "cell_type": "raw",
   "id": "a71dae6c-2ec2-4542-b856-14b7c8733f35",
   "metadata": {},
   "source": [
    "A database is a structured collection of data that can be easily accessed, managed, and updated.\n",
    "\n",
    "\n",
    "SQL Databases:\n",
    "\n",
    "\n",
    "Use structured query language (SQL) for defining and manipulating data.\n",
    "Are relational, meaning data is organized into tables with rows and columns.\n",
    "Examples: MySQL, PostgreSQL, Oracle.\n",
    "\n",
    "\n",
    "NoSQL Databases:\n",
    "\n",
    "\n",
    "Do not primarily use SQL for data manipulation.\n",
    "Are non-relational, meaning they store data in various formats like documents, key-value pairs, graphs, or wide-column stores.\n",
    "Examples: MongoDB, Redis, Cassandra."
   ]
  },
  {
   "cell_type": "markdown",
   "id": "1c070a03-7e41-4259-b2d1-1f2c35f418a0",
   "metadata": {},
   "source": [
    "Q1.what is DDL? explain why create ,drop,alter,and truncate are used with and example."
   ]
  },
  {
   "cell_type": "raw",
   "id": "cb79de0b-6660-4e15-b310-3d79af8e78b5",
   "metadata": {},
   "source": [
    "DDL (Data Definition Language) is a subset of SQL used to define and manage database structures.\n",
    "\n",
    "CREATE: Used to create new database objects like tables.\n",
    "\n",
    "Example: CREATE TABLE students (id INT, name VARCHAR(100));\n",
    "This creates a table named \"students\" with columns \"id\" and \"name\".\n",
    "\n",
    "DROP: Used to delete database objects.\n",
    "\n",
    "Example: DROP TABLE students;\n",
    "This deletes the \"students\" table from the database.\n",
    "\n",
    "ALTER: Used to modify existing database objects.\n",
    "\n",
    "Example: ALTER TABLE students ADD COLUMN age INT;\n",
    "This adds a new column \"age\" to the \"students\" table.\n",
    "\n",
    "TRUNCATE: Used to delete all data from a table, but not the table itself.\n",
    "\n",
    "Example: TRUNCATE TABLE students;\n",
    "This removes all rows from the \"students\" table but keeps the table structure intact."
   ]
  },
  {
   "cell_type": "markdown",
   "id": "52c412b2-7bd0-4dd9-a18f-ecf91a2011c1",
   "metadata": {},
   "source": [
    "Q3. What is DML? explain insert,update,and delete with an example."
   ]
  },
  {
   "cell_type": "raw",
   "id": "14492d53-0468-4828-9d21-2e691afc3981",
   "metadata": {},
   "source": [
    "DML (Data Manipulation Language) is a subset of SQL used to manipulate data within database tables.\n",
    "\n",
    "INSERT: Used to add new records to a table.\n",
    "\n",
    "Example: INSERT INTO students (id, name, age) VALUES (1, 'Alice', 20);\n",
    "This adds a new record with id=1, name='Alice', and age=20 to the \"students\" table.\n",
    "\n",
    "UPDATE: Used to modify existing records in a table.\n",
    "\n",
    "Example: UPDATE students SET age = 21 WHERE id = 1;\n",
    "This updates the age to 21 for the student with id=1.\n",
    "\n",
    "DELETE: Used to remove records from a table.\n",
    "\n",
    "Example: DELETE FROM students WHERE id = 1;\n",
    "This deletes the record of the student with id=1 from the \"students\" table.\n",
    "\n",
    "\n",
    "\n",
    "\n",
    "\n",
    "\n"
   ]
  },
  {
   "cell_type": "markdown",
   "id": "2fedabbb-5880-485d-a5e3-643f67c03803",
   "metadata": {},
   "source": [
    "Q4.what is DQL? explain select with an example."
   ]
  },
  {
   "cell_type": "raw",
   "id": "599be754-4a5f-4aa5-9a5f-e5cc47e2741b",
   "metadata": {},
   "source": [
    "DQL (Data Query Language) is a subset of SQL used to retrieve data from a database.\n",
    "\n",
    "SELECT: Used to fetch data from one or more tables.\n",
    "\n",
    "Example: SELECT * FROM students WHERE age > 20;\n",
    "This selects all columns (*) from the \"students\" table where the age is greater than 20."
   ]
  },
  {
   "cell_type": "markdown",
   "id": "49ca5c67-458b-4d0c-95b8-74901fb7c918",
   "metadata": {},
   "source": [
    "Q5.Explain primary key and foreign key."
   ]
  },
  {
   "cell_type": "raw",
   "id": "4d94d7e2-4d05-4a39-a9d3-e4ecbf7ca502",
   "metadata": {},
   "source": [
    "Primary Key:\n",
    "\n",
    "A primary key is a unique identifier for each record in a table.\n",
    "It ensures that each row in a table is uniquely identifiable.\n",
    "It cannot contain NULL values.\n",
    "Typically, a primary key is defined on one or more columns in a table.\n",
    "Example: In a \"students\" table, the \"student_id\" column can be designated as the primary key.\n",
    "\n",
    "Foreign Key:\n",
    "\n",
    "A foreign key is a column or set of columns in one table that refers to the primary key in another table.\n",
    "It establishes a relationship between two tables.\n",
    "It ensures referential integrity by enforcing a link between the data in the two tables.\n",
    "Example: In a \"grades\" table, the \"student_id\" column could be a foreign key that refers to the \"student_id\" column in the \"students\" table, linking each grade to a specific student."
   ]
  },
  {
   "cell_type": "markdown",
   "id": "4e1d634d-e628-4984-99c7-e685766c9397",
   "metadata": {},
   "source": [
    "Q6.write a python code to connect mysql to python.explain the cursor() and execute() method."
   ]
  },
  {
   "cell_type": "code",
   "execution_count": null,
   "id": "74f1b507-6388-416a-a641-a9d2c2ada0f4",
   "metadata": {},
   "outputs": [],
   "source": [
    "import mysql.connector\n",
    "\n",
    "# Connect to MySQL\n",
    "connection = mysql.connector.connect(\n",
    "    host=\"localhost\",\n",
    "    user=\"username\",\n",
    "    password=\"password\",\n",
    "    database=\"database_name\"\n",
    ")\n",
    "\n",
    "# Create a cursor object\n",
    "cursor = connection.cursor()\n",
    "\n",
    "# Execute SQL query\n",
    "cursor.execute(\"SELECT * FROM table_name\")\n",
    "\n",
    "# Fetch the results\n",
    "results = cursor.fetchall()\n",
    "\n",
    "# Process the results\n",
    "for row in results:\n",
    "    print(row)\n",
    "\n",
    "# Close the cursor and connection\n",
    "cursor.close()\n",
    "connection.close()\n"
   ]
  },
  {
   "cell_type": "markdown",
   "id": "d0d1db34-ab8a-4e88-a32d-cbdf5075d38a",
   "metadata": {},
   "source": [
    "Q7.give the order of execution of sql clauses in an sql query."
   ]
  },
  {
   "cell_type": "code",
   "execution_count": null,
   "id": "cc57c3a8-c65d-4da1-b6e2-b784a9e85452",
   "metadata": {},
   "outputs": [],
   "source": []
  }
 ],
 "metadata": {
  "kernelspec": {
   "display_name": "Python 3 (ipykernel)",
   "language": "python",
   "name": "python3"
  },
  "language_info": {
   "codemirror_mode": {
    "name": "ipython",
    "version": 3
   },
   "file_extension": ".py",
   "mimetype": "text/x-python",
   "name": "python",
   "nbconvert_exporter": "python",
   "pygments_lexer": "ipython3",
   "version": "3.11.7"
  }
 },
 "nbformat": 4,
 "nbformat_minor": 5
}
