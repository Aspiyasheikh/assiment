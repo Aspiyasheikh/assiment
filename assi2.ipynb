{
  "nbformat": 4,
  "nbformat_minor": 0,
  "metadata": {
    "colab": {
      "provenance": []
    },
    "kernelspec": {
      "name": "python3",
      "display_name": "Python 3"
    },
    "language_info": {
      "name": "python"
    }
  },
  "cells": [
    {
      "cell_type": "markdown",
      "source": [
        "Q1. How do you comment code in python? what are the different types of comments?"
      ],
      "metadata": {
        "id": "8GwuC0J8lDb3"
      }
    },
    {
      "cell_type": "code",
      "source": [
        "# This is comment line"
      ],
      "metadata": {
        "id": "t7xPF8enlOfZ"
      },
      "execution_count": 2,
      "outputs": []
    },
    {
      "cell_type": "markdown",
      "source": [
        "Type of comments- There are two type of comments\n",
        ">single line comments,\n",
        ">multiline comments"
      ],
      "metadata": {
        "id": "SjLwX4S-lhFI"
      }
    },
    {
      "cell_type": "code",
      "source": [
        "#this is the single line commnets.\n"
      ],
      "metadata": {
        "id": "9fZIhcTTl1Av"
      },
      "execution_count": 3,
      "outputs": []
    },
    {
      "cell_type": "code",
      "source": [
        "\"\"\"\n",
        "This is a multiline comment in Python.\n",
        "You can use it to write detailed explanations\n",
        "about your code or to disable multiple lines.\n",
        "\"\"\"\n",
        "a=10\n",
        "a\n"
      ],
      "metadata": {
        "colab": {
          "base_uri": "https://localhost:8080/"
        },
        "id": "U104dWlsmlT0",
        "outputId": "2cec86c0-6b08-446a-b759-696e9afb2c4e"
      },
      "execution_count": 6,
      "outputs": [
        {
          "output_type": "execute_result",
          "data": {
            "text/plain": [
              "10"
            ]
          },
          "metadata": {},
          "execution_count": 6
        }
      ]
    },
    {
      "cell_type": "markdown",
      "source": [
        "Q2.What are variable in python? How do you declare and assign values to variables?"
      ],
      "metadata": {
        "id": "4Sa_6d3NnEqe"
      }
    },
    {
      "cell_type": "markdown",
      "source": [
        "Variable-variables in Python are like containers that store data"
      ],
      "metadata": {
        "id": "7inbU7mcnjRt"
      }
    },
    {
      "cell_type": "code",
      "source": [
        "a=10  # a is variable and assign it value 10\n",
        "a"
      ],
      "metadata": {
        "colab": {
          "base_uri": "https://localhost:8080/"
        },
        "id": "qCwmgcyuoH7t",
        "outputId": "0837ead8-b134-44af-abeb-30ef825247d3"
      },
      "execution_count": 7,
      "outputs": [
        {
          "output_type": "execute_result",
          "data": {
            "text/plain": [
              "10"
            ]
          },
          "metadata": {},
          "execution_count": 7
        }
      ]
    },
    {
      "cell_type": "markdown",
      "source": [
        "Q3. How do you convert one data type to another in python?"
      ],
      "metadata": {
        "id": "YW17mKZjobjh"
      }
    },
    {
      "cell_type": "code",
      "source": [
        "a=10\n",
        "type(a)"
      ],
      "metadata": {
        "colab": {
          "base_uri": "https://localhost:8080/"
        },
        "id": "8C2aagzVok7s",
        "outputId": "7addd402-f9a9-46a1-e0bd-ead8b5ab976c"
      },
      "execution_count": 8,
      "outputs": [
        {
          "output_type": "execute_result",
          "data": {
            "text/plain": [
              "int"
            ]
          },
          "metadata": {},
          "execution_count": 8
        }
      ]
    },
    {
      "cell_type": "code",
      "source": [
        "b=float(a) # Here a is integer it's convert into float\n",
        "b"
      ],
      "metadata": {
        "colab": {
          "base_uri": "https://localhost:8080/"
        },
        "id": "HWSVx61IowGA",
        "outputId": "8f7b02c8-6086-4fa2-babc-5e828fda5b3e"
      },
      "execution_count": 9,
      "outputs": [
        {
          "output_type": "execute_result",
          "data": {
            "text/plain": [
              "10.0"
            ]
          },
          "metadata": {},
          "execution_count": 9
        }
      ]
    },
    {
      "cell_type": "code",
      "source": [
        "type(b)"
      ],
      "metadata": {
        "colab": {
          "base_uri": "https://localhost:8080/"
        },
        "id": "SjPljwkwo1Lm",
        "outputId": "db6bf162-c93c-4e15-c602-b3ab66378f34"
      },
      "execution_count": 10,
      "outputs": [
        {
          "output_type": "execute_result",
          "data": {
            "text/plain": [
              "float"
            ]
          },
          "metadata": {},
          "execution_count": 10
        }
      ]
    },
    {
      "cell_type": "markdown",
      "source": [
        "Q4. How  do you write and execute a python script from the command line?\n",
        "\n",
        "Ans-Write code in a text editor and save it as a .py file.\n",
        "\n",
        "Open the command prompt or terminal.\n",
        "\n",
        "Navigate to the script's directory using cd command.\n",
        "\n",
        "Run the script with python filename.py.\n",
        "\n",
        "\n",
        "\n",
        "\n"
      ],
      "metadata": {
        "id": "vXT51miOpIQw"
      }
    },
    {
      "cell_type": "markdown",
      "source": [
        "Q5. Given a list my_list=[1,2,3,4,5], Write the code to slice the list and obtain the sub-list[2,3]\n"
      ],
      "metadata": {
        "id": "7TNE0YRDxkPf"
      }
    },
    {
      "cell_type": "code",
      "source": [
        "my_list=[1,2,3,4,5]\n",
        "sub_list=my_list[1:3]\n",
        "sub_list"
      ],
      "metadata": {
        "colab": {
          "base_uri": "https://localhost:8080/"
        },
        "id": "GP7fHusPx3yl",
        "outputId": "5deb1ffd-e330-4aa9-83f0-e9cce4f54170"
      },
      "execution_count": 11,
      "outputs": [
        {
          "output_type": "execute_result",
          "data": {
            "text/plain": [
              "[2, 3]"
            ]
          },
          "metadata": {},
          "execution_count": 11
        }
      ]
    },
    {
      "cell_type": "markdown",
      "source": [
        "Q6. What is a complex number in mathematics, and how is it represented in python?"
      ],
      "metadata": {
        "id": "GAurUBHeyO5m"
      }
    },
    {
      "cell_type": "markdown",
      "source": [
        "Complex number- complex number is a number in the form a + bi, where a and b are real numbers, and i is the imaginary unit (√-1)."
      ],
      "metadata": {
        "id": "KZpmQSGXyhYi"
      }
    },
    {
      "cell_type": "code",
      "source": [
        "com=2+5j\n",
        "type(com)"
      ],
      "metadata": {
        "colab": {
          "base_uri": "https://localhost:8080/"
        },
        "id": "ssYsycabzHph",
        "outputId": "4f6fdc0c-3d5c-4940-b124-e5f8670f87e8"
      },
      "execution_count": 12,
      "outputs": [
        {
          "output_type": "execute_result",
          "data": {
            "text/plain": [
              "complex"
            ]
          },
          "metadata": {},
          "execution_count": 12
        }
      ]
    },
    {
      "cell_type": "markdown",
      "source": [
        "Q7.What is the correct way to declare  a variable named age and assign the value 25 to it?"
      ],
      "metadata": {
        "id": "ETiw7TSNzS_E"
      }
    },
    {
      "cell_type": "code",
      "source": [
        "age=25 # here age is a variable which is assign the value 25\n",
        "age"
      ],
      "metadata": {
        "colab": {
          "base_uri": "https://localhost:8080/"
        },
        "id": "oonDQw6x0Bg-",
        "outputId": "e2ac02f0-0a4d-4eb6-88ec-973e41b12575"
      },
      "execution_count": 13,
      "outputs": [
        {
          "output_type": "execute_result",
          "data": {
            "text/plain": [
              "25"
            ]
          },
          "metadata": {},
          "execution_count": 13
        }
      ]
    },
    {
      "cell_type": "markdown",
      "source": [
        "Q8. Declare a variable named price and assignl the value 9.99 to it. what  data type does this variable belong to ?"
      ],
      "metadata": {
        "id": "AWx5VVa50Q18"
      }
    },
    {
      "cell_type": "code",
      "source": [
        "price=9.99\n",
        "type(price)"
      ],
      "metadata": {
        "colab": {
          "base_uri": "https://localhost:8080/"
        },
        "id": "rT7csOAK0reL",
        "outputId": "cca731ed-6720-444b-9830-35dadefc5657"
      },
      "execution_count": 14,
      "outputs": [
        {
          "output_type": "execute_result",
          "data": {
            "text/plain": [
              "float"
            ]
          },
          "metadata": {},
          "execution_count": 14
        }
      ]
    },
    {
      "cell_type": "markdown",
      "source": [
        "Q9. Create a variable named and assign your full name to it as a string.HOw would you print the value of this variable?"
      ],
      "metadata": {
        "id": "cr9CE8fJ0zeg"
      }
    },
    {
      "cell_type": "code",
      "source": [
        "Name=\"Aspiya sheikh\"\n",
        "Name\n"
      ],
      "metadata": {
        "colab": {
          "base_uri": "https://localhost:8080/",
          "height": 36
        },
        "id": "SDBu7H981BYl",
        "outputId": "a7dfb229-63c5-4626-e05e-406935b9b552"
      },
      "execution_count": 15,
      "outputs": [
        {
          "output_type": "execute_result",
          "data": {
            "text/plain": [
              "'Aspiya sheikh'"
            ],
            "application/vnd.google.colaboratory.intrinsic+json": {
              "type": "string"
            }
          },
          "metadata": {},
          "execution_count": 15
        }
      ]
    },
    {
      "cell_type": "markdown",
      "source": [
        "Q10. Given the string\"Hello,World!\",extract the substring \"world\"."
      ],
      "metadata": {
        "id": "M2X2DE3r1XG8"
      }
    },
    {
      "cell_type": "code",
      "source": [
        "string=\"Hello,World\"\n",
        "string[6:11]\n"
      ],
      "metadata": {
        "colab": {
          "base_uri": "https://localhost:8080/",
          "height": 36
        },
        "id": "5_OqFxDR1pYS",
        "outputId": "db1bfba2-3cae-47a8-eae4-3ecad2269609"
      },
      "execution_count": 18,
      "outputs": [
        {
          "output_type": "execute_result",
          "data": {
            "text/plain": [
              "'World'"
            ],
            "application/vnd.google.colaboratory.intrinsic+json": {
              "type": "string"
            }
          },
          "metadata": {},
          "execution_count": 18
        }
      ]
    },
    {
      "cell_type": "markdown",
      "source": [
        "Q11. Create  a variable named 'is_student' and assign it a boolean vlaue indicating whether you are currently a student or not."
      ],
      "metadata": {
        "id": "d8aM4aiN2g9b"
      }
    },
    {
      "cell_type": "code",
      "source": [
        "is_student = True  # If you are currently a student\n",
        "# OR\n",
        "is_student1 = False  # If you are not currently a student\n",
        "is_student\n"
      ],
      "metadata": {
        "colab": {
          "base_uri": "https://localhost:8080/"
        },
        "id": "qltTvmsp2jt8",
        "outputId": "ba418f2d-7636-4b0c-a259-8e19d841f5b8"
      },
      "execution_count": 20,
      "outputs": [
        {
          "output_type": "execute_result",
          "data": {
            "text/plain": [
              "True"
            ]
          },
          "metadata": {},
          "execution_count": 20
        }
      ]
    },
    {
      "cell_type": "code",
      "source": [],
      "metadata": {
        "id": "K83FxuQu3GuA"
      },
      "execution_count": null,
      "outputs": []
    }
  ]
}