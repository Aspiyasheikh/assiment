{
 "cells": [
  {
   "cell_type": "markdown",
   "id": "dead07f2",
   "metadata": {},
   "source": [
    "Q1 Create one variable containing following:"
   ]
  },
  {
   "cell_type": "code",
   "execution_count": 2,
   "id": "5bf0fbb3",
   "metadata": {},
   "outputs": [
    {
     "name": "stdout",
     "output_type": "stream",
     "text": [
      "ASpiya\n"
     ]
    }
   ],
   "source": [
    "K=\"ASpiya\"\n",
    "print(K)"
   ]
  },
  {
   "cell_type": "code",
   "execution_count": 3,
   "id": "119636be",
   "metadata": {},
   "outputs": [
    {
     "name": "stdout",
     "output_type": "stream",
     "text": [
      "[1, 2, 'a', 2.3]\n"
     ]
    }
   ],
   "source": [
    "k=[1,2,'a',2.3]\n",
    "print(k)"
   ]
  },
  {
   "cell_type": "code",
   "execution_count": 4,
   "id": "4f639d2f",
   "metadata": {},
   "outputs": [
    {
     "name": "stdout",
     "output_type": "stream",
     "text": [
      "4.45\n"
     ]
    }
   ],
   "source": [
    "k=4.45\n",
    "print(k)"
   ]
  },
  {
   "cell_type": "code",
   "execution_count": 7,
   "id": "8b0ba601",
   "metadata": {},
   "outputs": [
    {
     "name": "stdout",
     "output_type": "stream",
     "text": [
      "('apple', 'mango')\n"
     ]
    }
   ],
   "source": [
    "tuple=(\"apple\",\"mango\")\n",
    "print(tuple)"
   ]
  },
  {
   "cell_type": "markdown",
   "id": "0a64a9f3",
   "metadata": {},
   "source": [
    "Q2 Given are some following variable containg data"
   ]
  },
  {
   "cell_type": "code",
   "execution_count": 8,
   "id": "fb80c8ff",
   "metadata": {},
   "outputs": [
    {
     "data": {
      "text/plain": [
       "str"
      ]
     },
     "execution_count": 8,
     "metadata": {},
     "output_type": "execute_result"
    }
   ],
   "source": [
    "var=''\n",
    "type(var)"
   ]
  },
  {
   "cell_type": "code",
   "execution_count": 9,
   "id": "e9fe61fe",
   "metadata": {},
   "outputs": [
    {
     "data": {
      "text/plain": [
       "str"
      ]
     },
     "execution_count": 9,
     "metadata": {},
     "output_type": "execute_result"
    }
   ],
   "source": [
    "var2='[DS,ML,python]'\n",
    "type(var2)"
   ]
  },
  {
   "cell_type": "code",
   "execution_count": 10,
   "id": "45d8a96a",
   "metadata": {},
   "outputs": [
    {
     "data": {
      "text/plain": [
       "list"
      ]
     },
     "execution_count": 10,
     "metadata": {},
     "output_type": "execute_result"
    }
   ],
   "source": [
    "var3=['DS','ML','python']\n",
    "type(var3)"
   ]
  },
  {
   "cell_type": "code",
   "execution_count": 11,
   "id": "8732f795",
   "metadata": {},
   "outputs": [
    {
     "data": {
      "text/plain": [
       "int"
      ]
     },
     "execution_count": 11,
     "metadata": {},
     "output_type": "execute_result"
    }
   ],
   "source": [
    "var4=1\n",
    "type(var4)"
   ]
  },
  {
   "cell_type": "markdown",
   "id": "f52f2183",
   "metadata": {},
   "source": [
    "Q4 Create a list of your choice cointaing multiple types of Data. using for loop print the element and its data type"
   ]
  },
  {
   "cell_type": "code",
   "execution_count": 12,
   "id": "65fdc7d6",
   "metadata": {},
   "outputs": [
    {
     "name": "stdout",
     "output_type": "stream",
     "text": [
      "78\n",
      "<class 'int'>\n",
      "4\n",
      "<class 'int'>\n",
      "4.5\n",
      "<class 'float'>\n",
      "s\n",
      "<class 'str'>\n",
      "a\n",
      "<class 'str'>\n"
     ]
    }
   ],
   "source": [
    "a=[78,4,4.5,'s','a']\n",
    "for i in a:\n",
    "    print(i)\n",
    "    print(type(i))"
   ]
  },
  {
   "cell_type": "markdown",
   "id": "df4150c0",
   "metadata": {},
   "source": [
    "Q3. Explain followinfg operator"
   ]
  },
  {
   "cell_type": "code",
   "execution_count": 13,
   "id": "c951529e",
   "metadata": {},
   "outputs": [
    {
     "data": {
      "text/plain": [
       "1.0"
      ]
     },
     "execution_count": 13,
     "metadata": {},
     "output_type": "execute_result"
    }
   ],
   "source": [
    "# 1./(DIVISION)\n",
    "a=9/9\n",
    "a"
   ]
  },
  {
   "cell_type": "code",
   "execution_count": 14,
   "id": "3677fb79",
   "metadata": {},
   "outputs": [
    {
     "data": {
      "text/plain": [
       "2"
      ]
     },
     "execution_count": 14,
     "metadata": {},
     "output_type": "execute_result"
    }
   ],
   "source": [
    "#2./(Division)\n",
    "a=2%5\n",
    "a"
   ]
  },
  {
   "cell_type": "code",
   "execution_count": 15,
   "id": "c032a97c",
   "metadata": {},
   "outputs": [
    {
     "data": {
      "text/plain": [
       "11"
      ]
     },
     "execution_count": 15,
     "metadata": {},
     "output_type": "execute_result"
    }
   ],
   "source": [
    "#3.//(flor division)\n",
    "a=45//4\n",
    "a"
   ]
  },
  {
   "cell_type": "code",
   "execution_count": 18,
   "id": "8468077a",
   "metadata": {},
   "outputs": [
    {
     "data": {
      "text/plain": [
       "531441"
      ]
     },
     "execution_count": 18,
     "metadata": {},
     "output_type": "execute_result"
    }
   ],
   "source": [
    "# 4.**used for power calculate\n",
    "a=9**6\n",
    "a"
   ]
  },
  {
   "cell_type": "markdown",
   "id": "228449aa",
   "metadata": {},
   "source": [
    "Q5. using While loop . verify if the number A is purely divisible by number B and if so then how many times it can be divisible"
   ]
  },
  {
   "cell_type": "code",
   "execution_count": 19,
   "id": "3dbe88c0",
   "metadata": {},
   "outputs": [
    {
     "name": "stdout",
     "output_type": "stream",
     "text": [
      "A is purely divisible \n"
     ]
    }
   ],
   "source": [
    "A=32\n",
    "B=2\n",
    "sh=0\n",
    "while A%B==0:\n",
    "    A=A/B\n",
    "    sh=sh+1\n",
    "if A==1:\n",
    "    print(\"A is purely divisible \")\n",
    "else:\n",
    "    print(\"not divi.\")"
   ]
  },
  {
   "cell_type": "markdown",
   "id": "720814cc",
   "metadata": {},
   "source": [
    "Q6.create a list containing 25 int type data item. Using for loop and if condition print if the element is divisible by 3 or not"
   ]
  },
  {
   "cell_type": "code",
   "execution_count": 21,
   "id": "571a17e6",
   "metadata": {},
   "outputs": [
    {
     "name": "stdout",
     "output_type": "stream",
     "text": [
      "not divisible 3 1\n",
      "not divisible 3 2\n",
      "divisible by 3 3\n",
      "not divisible 3 4\n",
      "not divisible 3 5\n",
      "divisible by 3 6\n",
      "not divisible 3 7\n",
      "not divisible 3 8\n",
      "divisible by 3 9\n",
      "not divisible 3 10\n",
      "not divisible 3 11\n",
      "divisible by 3 12\n",
      "not divisible 3 13\n",
      "not divisible 3 14\n",
      "divisible by 3 15\n",
      "not divisible 3 16\n",
      "not divisible 3 17\n",
      "divisible by 3 18\n",
      "not divisible 3 19\n",
      "not divisible 3 20\n",
      "divisible by 3 21\n",
      "not divisible 3 22\n",
      "not divisible 3 23\n",
      "divisible by 3 24\n",
      "not divisible 3 25\n"
     ]
    }
   ],
   "source": [
    "N=[1,2,3,4,5,6,7,8,9,10,11,12,13,14,15,16,17,18,19,20,21,22,23,24,25]\n",
    "for i in N:\n",
    "    if i%3==0:\n",
    "        print(\"divisible by 3\",i)\n",
    "    else:\n",
    "        print(\"not divisible 3\",i)"
   ]
  },
  {
   "cell_type": "markdown",
   "id": "e81a2589",
   "metadata": {},
   "source": [
    "Q7. Mutable:- mutable simply meaning is \"it can be changeble\"\n",
    "Ex:-list[] list can be change"
   ]
  },
  {
   "cell_type": "code",
   "execution_count": 22,
   "id": "364e54be",
   "metadata": {},
   "outputs": [
    {
     "name": "stdout",
     "output_type": "stream",
     "text": [
      "[2, 9, 8, 67]\n"
     ]
    }
   ],
   "source": [
    "Mal=[2,9,8,'sh']\n",
    "Mal[3]=67\n",
    "print(Mal)"
   ]
  },
  {
   "cell_type": "markdown",
   "id": "9c7f451b",
   "metadata": {},
   "source": [
    "Immutable:- immutable simply meaing is \"it cannot be change\"\n",
    "Ex:- String''String cannot be changeable"
   ]
  },
  {
   "cell_type": "code",
   "execution_count": 23,
   "id": "37954e5e",
   "metadata": {},
   "outputs": [
    {
     "name": "stdout",
     "output_type": "stream",
     "text": [
      "Aspiya\n"
     ]
    }
   ],
   "source": [
    "l=\"Aspiya\"\n",
    "print(l)"
   ]
  },
  {
   "cell_type": "code",
   "execution_count": 24,
   "id": "69052829",
   "metadata": {},
   "outputs": [
    {
     "ename": "TypeError",
     "evalue": "'str' object does not support item assignment",
     "output_type": "error",
     "traceback": [
      "\u001b[1;31m---------------------------------------------------------------------------\u001b[0m",
      "\u001b[1;31mTypeError\u001b[0m                                 Traceback (most recent call last)",
      "\u001b[1;32m~\\AppData\\Local\\Temp\\ipykernel_48116\\3164103108.py\u001b[0m in \u001b[0;36m<module>\u001b[1;34m\u001b[0m\n\u001b[1;32m----> 1\u001b[1;33m \u001b[0ml\u001b[0m\u001b[1;33m[\u001b[0m\u001b[1;36m2\u001b[0m\u001b[1;33m]\u001b[0m\u001b[1;33m=\u001b[0m\u001b[1;34m'f'\u001b[0m\u001b[1;33m\u001b[0m\u001b[1;33m\u001b[0m\u001b[0m\n\u001b[0m\u001b[0;32m      2\u001b[0m \u001b[0mprint\u001b[0m\u001b[1;33m(\u001b[0m\u001b[0ml\u001b[0m\u001b[1;33m)\u001b[0m\u001b[1;33m\u001b[0m\u001b[1;33m\u001b[0m\u001b[0m\n",
      "\u001b[1;31mTypeError\u001b[0m: 'str' object does not support item assignment"
     ]
    }
   ],
   "source": [
    "l[2]='f'\n",
    "print(l)"
   ]
  },
  {
   "cell_type": "code",
   "execution_count": null,
   "id": "30cbd527",
   "metadata": {},
   "outputs": [],
   "source": []
  }
 ],
 "metadata": {
  "kernelspec": {
   "display_name": "Python 3 (ipykernel)",
   "language": "python",
   "name": "python3"
  },
  "language_info": {
   "codemirror_mode": {
    "name": "ipython",
    "version": 3
   },
   "file_extension": ".py",
   "mimetype": "text/x-python",
   "name": "python",
   "nbconvert_exporter": "python",
   "pygments_lexer": "ipython3",
   "version": "3.9.13"
  }
 },
 "nbformat": 4,
 "nbformat_minor": 5
}
