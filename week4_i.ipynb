{
  "nbformat": 4,
  "nbformat_minor": 0,
  "metadata": {
    "colab": {
      "provenance": []
    },
    "kernelspec": {
      "name": "python3",
      "display_name": "Python 3"
    },
    "language_info": {
      "name": "python"
    }
  },
  "cells": [
    {
      "cell_type": "markdown",
      "source": [
        "Q1. Create a vehicle class with an init method having instance variables as name_of_vehicle ,max_speed and average_Of_vehicle."
      ],
      "metadata": {
        "id": "SxfMtGaNQRaT"
      }
    },
    {
      "cell_type": "code",
      "source": [
        "class Vehicle:\n",
        "    def __init__(self, name, speed, average):\n",
        "        self.name_of_vehicle = name\n",
        "        self.max_speed = speed\n",
        "        self.average_of_vehicle = average\n",
        "\n",
        "    def retu(self):\n",
        "        return self.name_of_vehicle, self.max_speed, self.average_of_vehicle\n",
        "\n",
        "p1 = Vehicle(\"maruti\", 27, 40000)\n",
        "print(p1.retu())"
      ],
      "metadata": {
        "colab": {
          "base_uri": "https://localhost:8080/"
        },
        "id": "07HkAGEqQjji",
        "outputId": "6d57ba69-18d3-43cd-d0b3-0e5879a6a36b"
      },
      "execution_count": null,
      "outputs": [
        {
          "output_type": "stream",
          "name": "stdout",
          "text": [
            "('maruti', 27, 40000)\n"
          ]
        }
      ]
    },
    {
      "cell_type": "markdown",
      "source": [
        "Q2. Create a child  class car from the vehicle class created in Que1. which will inherit the vehicle class. create a method named  seating_capacity which takes capacity as an argument and returns the name of  the vehicle and its seating capacity.\n"
      ],
      "metadata": {
        "id": "tt2sLpVMS-3o"
      }
    },
    {
      "cell_type": "code",
      "source": [
        "\n",
        "class Vehicle:\n",
        "    def __init__(self, name, speed, average):\n",
        "        self.name_of_vehicle = name\n",
        "        self.max_speed = speed\n",
        "        self.average_of_vehicle = average\n",
        "\n",
        "    def retu(self):\n",
        "        return self.name_of_vehicle, self.max_speed, self.average_of_vehicle\n",
        "\n",
        "class Car(Vehicle):\n",
        "    def seating_capacity(self, capacity):\n",
        "        return f\"{self.name_of_vehicle} - Seating Capacity: {capacity}\"\n",
        "\n",
        "p1 = Car(\"maruti\", 27, 40000)\n",
        "print(p1.retu())\n",
        "print(p1.seating_capacity(5))\n"
      ],
      "metadata": {
        "colab": {
          "base_uri": "https://localhost:8080/"
        },
        "id": "BeoOWpQBQzNw",
        "outputId": "50acaac4-ed30-4dbb-965c-784c08445159"
      },
      "execution_count": null,
      "outputs": [
        {
          "output_type": "stream",
          "name": "stdout",
          "text": [
            "('maruti', 27, 40000)\n",
            "maruti - Seating Capacity: 5\n"
          ]
        }
      ]
    },
    {
      "cell_type": "markdown",
      "source": [
        "Q3.What is multiple inheritance ? write a python code to demonstrate multiple inheritance."
      ],
      "metadata": {
        "id": "IOeqTB5_Wu8H"
      }
    },
    {
      "cell_type": "markdown",
      "source": [
        "multiple inheritance-\n",
        "Multiple inheritance is a feature in object-oriented programming languages that allows a class to inherit attributes and methods from more than one parent class.\n",
        "\n"
      ],
      "metadata": {
        "id": "3vpvnde6XNL3"
      }
    },
    {
      "cell_type": "code",
      "source": [
        "class Parent1:\n",
        "    def method1(self):\n",
        "        print(\"Method from Parent1\")\n",
        "\n",
        "class Parent2:\n",
        "    def method2(self):\n",
        "        print(\"Method from Parent2\")\n",
        "\n",
        "class Child(Parent1, Parent2):\n",
        "    def method3(self):\n",
        "        print(\"Method from Child\")\n",
        "child_instance = Child()\n",
        "\n",
        "\n",
        "child_instance.method1()\n",
        "child_instance.method2()\n",
        "child_instance.method3()\n",
        "\n",
        "\n",
        "\n",
        "\n",
        "\n",
        "\n"
      ],
      "metadata": {
        "id": "yJEH5cHHWSM8",
        "colab": {
          "base_uri": "https://localhost:8080/"
        },
        "outputId": "3fa70349-573c-421f-8c6e-0b565f46e9ae"
      },
      "execution_count": 1,
      "outputs": [
        {
          "output_type": "stream",
          "name": "stdout",
          "text": [
            "Method from Parent1\n",
            "Method from Parent2\n",
            "Method from Child\n"
          ]
        }
      ]
    },
    {
      "cell_type": "markdown",
      "source": [
        "Q4.what are getter and setter in python? Create a class and create  a getter and setter method in this  class."
      ],
      "metadata": {
        "id": "bKhi770UKoTj"
      }
    },
    {
      "cell_type": "markdown",
      "source": [
        "**getter**-A getter is a method that allows you to retrieve the value of an attribute in a class. In Python, you can implement a getter using the @property decorator\n",
        "**setter**-A setter is a method that allows you to modify the value of an attribute in a class. In Python, you can implement a setter using the @<attribute>.setter decorator\n"
      ],
      "metadata": {
        "id": "e--fkrbuK2L6"
      }
    },
    {
      "cell_type": "code",
      "source": [
        "class Student:\n",
        "    def __init__(self, name, age):\n",
        "        self._name = name\n",
        "        self._age = age\n",
        "\n",
        "    # Getter method for name\n",
        "    @property\n",
        "    def name(self):\n",
        "        return self._name\n",
        "\n",
        "    # Setter method for name\n",
        "    @name.setter\n",
        "    def name(self, new_name):\n",
        "        self._name = new_name\n",
        "\n",
        "    # Getter method for age\n",
        "    @property\n",
        "    def age(self):\n",
        "        return self._age\n",
        "\n",
        "    # Setter method for age\n",
        "    @age.setter\n",
        "    def age(self, new_age):\n",
        "        if new_age >= 0:\n",
        "            self._age = new_age\n",
        "        else:\n",
        "            raise ValueError(\"Age cannot be negative\")\n",
        "\n",
        "# Creating an instance of the Student class\n",
        "student = Student(\"John Doe\", 20)\n",
        "\n",
        "print(\"Name:\", student.name)\n",
        "print(\"Age:\", student.age)\n",
        "student.name = \"Jane Smith\"\n",
        "student.age = 22\n",
        "print(\"Modified Name:\", student.name)\n",
        "print(\"Modified Age:\", student.age)"
      ],
      "metadata": {
        "colab": {
          "base_uri": "https://localhost:8080/"
        },
        "id": "GfBSAR_hKhXW",
        "outputId": "a37ac3ad-422b-4c23-f3aa-2e1d7c74b6f4"
      },
      "execution_count": 4,
      "outputs": [
        {
          "output_type": "stream",
          "name": "stdout",
          "text": [
            "Name: John Doe\n",
            "Age: 20\n",
            "Modified Name: Jane Smith\n",
            "Modified Age: 22\n"
          ]
        }
      ]
    },
    {
      "cell_type": "markdown",
      "source": [
        "Q5. what is method overriding in python ? write a python code to demonstrate method overriding."
      ],
      "metadata": {
        "id": "6TyJwFsZMUlj"
      }
    },
    {
      "cell_type": "markdown",
      "source": [
        "Method overriding is a concept in object-oriented programming where a subclass provides a specific implementation for a method that is already defined in its superclass"
      ],
      "metadata": {
        "id": "lLRUIn3UMquv"
      }
    },
    {
      "cell_type": "code",
      "source": [
        "class Animal:\n",
        "    def speak(self):\n",
        "        return \"Animal speaks\"\n",
        "\n",
        "class Dog(Animal):\n",
        "    def speak(self):\n",
        "        return \"Woof!\"\n",
        "\n",
        "class Cat(Animal):\n",
        "    def speak(self):\n",
        "        return \"Meow!\"\n",
        "\n",
        "# Creating instances of the subclasses\n",
        "dog = Dog()\n",
        "cat = Cat()\n",
        "\n",
        "# Calling the overridden 'speak' methods\n",
        "print(dog.speak())  # Calls Dog's 'speak' method\n",
        "print(cat.speak())  # Calls Cat's 'speak' method\n",
        "\n",
        "\n",
        "\n",
        "\n",
        "\n"
      ],
      "metadata": {
        "colab": {
          "base_uri": "https://localhost:8080/"
        },
        "id": "M6w__w5HLyh0",
        "outputId": "224b77cf-aadf-46ac-d03c-720836c73510"
      },
      "execution_count": 7,
      "outputs": [
        {
          "output_type": "stream",
          "name": "stdout",
          "text": [
            "Woof!\n",
            "Meow!\n"
          ]
        }
      ]
    },
    {
      "cell_type": "code",
      "source": [],
      "metadata": {
        "id": "mksNVMQ8M5Nc"
      },
      "execution_count": null,
      "outputs": []
    }
  ]
}