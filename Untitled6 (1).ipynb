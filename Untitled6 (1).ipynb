{
  "nbformat": 4,
  "nbformat_minor": 0,
  "metadata": {
    "colab": {
      "provenance": []
    },
    "kernelspec": {
      "name": "python3",
      "display_name": "Python 3"
    },
    "language_info": {
      "name": "python"
    }
  },
  "cells": [
    {
      "cell_type": "markdown",
      "source": [
        "Q1.what is Abstraction in oops? explain with an examples."
      ],
      "metadata": {
        "id": "bN8ekdcwsksJ"
      }
    },
    {
      "cell_type": "markdown",
      "source": [
        "Abstraction in object-oriented programming simplifies complexity by focusing on essential features and behaviors while hiding implementation details, achieved through abstract classes and methods, allowing clear separation between interface and implementation."
      ],
      "metadata": {
        "id": "SbM-AD16svMD"
      }
    },
    {
      "cell_type": "code",
      "source": [
        "from abc import ABC, abstractmethod\n",
        "\n",
        "class Shape(ABC):\n",
        "    @abstractmethod\n",
        "    def area(self):\n",
        "        pass\n",
        "\n",
        "class Circle(Shape):\n",
        "    def __init__(self, radius):\n",
        "        self.radius = radius\n",
        "\n",
        "    def area(self):\n",
        "        return 3.14 * self.radius ** 2\n",
        "\n",
        "class Square(Shape):\n",
        "    def __init__(self, side):\n",
        "        self.side = side\n",
        "\n",
        "    def area(self):\n",
        "        return self.side ** 2\n",
        "\n",
        "# Using abstraction\n",
        "shapes = [Circle(5), Square(4)]\n",
        "for shape in shapes:\n",
        "    print(f\"Area: {shape.area()}\")"
      ],
      "metadata": {
        "colab": {
          "base_uri": "https://localhost:8080/"
        },
        "id": "XIYsq67asuMd",
        "outputId": "60ed0317-7d0d-4cdb-cef6-8eb1d5bc23fd"
      },
      "execution_count": 1,
      "outputs": [
        {
          "output_type": "stream",
          "name": "stdout",
          "text": [
            "Area: 78.5\n",
            "Area: 16\n"
          ]
        }
      ]
    },
    {
      "cell_type": "markdown",
      "source": [
        "Q2.Difference between Abstraction and Encapsulation. Explain with an example."
      ],
      "metadata": {
        "id": "-cXP8-SMtHEP"
      }
    },
    {
      "cell_type": "markdown",
      "source": [
        "\n",
        "Abstraction simplifies interface, while encapsulation bundles data and methods"
      ],
      "metadata": {
        "id": "cJgDAsHrtcXT"
      }
    },
    {
      "cell_type": "markdown",
      "source": [
        "Q3.what is abc module in python? why is it used?"
      ],
      "metadata": {
        "id": "cHPsCT0qteB1"
      }
    },
    {
      "cell_type": "markdown",
      "source": [
        "he abc module in Python is used to create abstract base classes that define a common interface for a group of related classes. It ensures that subclasses implement specific methods or attributes, promoting code consistency and reusability. This module helps in designing clear class hierarchies and ensuring that classes adhere to expected behaviors."
      ],
      "metadata": {
        "id": "lsdibnDmt1n5"
      }
    },
    {
      "cell_type": "markdown",
      "source": [
        "Q4.HOw can we achieve data abstraction?"
      ],
      "metadata": {
        "id": "0GZxsMnFt3Tw"
      }
    },
    {
      "cell_type": "markdown",
      "source": [
        "Data abstraction in Python is achieved through classes and encapsulation. Classes hide implementation details and provide a controlled interface for interacting with data, using methods to manipulate it while keeping internal attributes hidden."
      ],
      "metadata": {
        "id": "YFHp8VZxuLLY"
      }
    },
    {
      "cell_type": "markdown",
      "source": [
        "Q5.Can we create an instance of an abstract class? Explain your answer."
      ],
      "metadata": {
        "id": "xZHpS1zSuMsH"
      }
    },
    {
      "cell_type": "markdown",
      "source": [
        "No, you cannot directly create an instance of an abstract class in most object-oriented programming languages. An abstract class is a class that is meant to be a blueprint for other classes, and it often contains abstract methods that have no implementation in the abstract class itself. These methods must be overridden by concrete (non-abstract) subclasses"
      ],
      "metadata": {
        "id": "WhOPqozMuwkj"
      }
    },
    {
      "cell_type": "code",
      "source": [],
      "metadata": {
        "id": "GZ8XyuSYtAZY"
      },
      "execution_count": null,
      "outputs": []
    }
  ]
}